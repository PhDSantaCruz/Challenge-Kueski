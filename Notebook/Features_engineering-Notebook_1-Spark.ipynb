{
 "cells": [
  {
   "cell_type": "code",
   "execution_count": 34,
   "id": "b8e81740-accb-4a52-b73d-ca5247f5dbc8",
   "metadata": {
    "tags": []
   },
   "outputs": [],
   "source": [
    "from pyspark.sql import functions as F\n",
    "from pyspark.sql.window import Window\n",
    "import pyspark\n",
    "from pyspark.sql import SparkSession\n",
    "from delta import *\n",
    "from pyspark.sql.types import ShortType\n",
    "\n",
    "builder = pyspark.sql.SparkSession.builder.appName(\"MyApp\") \\\n",
    "    .config(\"spark.sql.extensions\", \"io.delta.sql.DeltaSparkSessionExtension\") \\\n",
    "    .config(\"spark.sql.catalog.spark_catalog\", \"org.apache.spark.sql.delta.catalog.DeltaCatalog\")\n",
    "\n",
    "spark = configure_spark_with_delta_pip(builder).getOrCreate()\n",
    "\n",
    "\n",
    "\n",
    "\n",
    "#spark = SparkSession.builder.master(\"local[1]\") \\\n",
    " #                   .appName('Test') \\\n",
    " #                   .getOrCreate()\n",
    "\n"
   ]
  },
  {
   "cell_type": "code",
   "execution_count": null,
   "id": "066e41af-6e50-4b11-be65-3f65aac4da51",
   "metadata": {},
   "outputs": [],
   "source": []
  },
  {
   "cell_type": "code",
   "execution_count": 4,
   "id": "48063d02-3de8-43a8-9d46-fcd00cc08f5c",
   "metadata": {},
   "outputs": [],
   "source": [
    "#!pyspark --packages io.delta:delta-core_2.12:1.1.0 --conf \"spark.sql.extensions=io.delta.sql.DeltaSparkSessionExtension\" --conf \"spark.sql.catalog.spark_catalog=org.apache.spark.sql.delta.catalog.DeltaCatalog\"\n"
   ]
  },
  {
   "cell_type": "code",
   "execution_count": 5,
   "id": "0e93fde3-3bf8-421a-bf96-3f42b25d3515",
   "metadata": {},
   "outputs": [],
   "source": [
    "df = spark.read.csv('dataset_credit_risk.csv',inferSchema =True, header=True).na.drop()\n"
   ]
  },
  {
   "cell_type": "code",
   "execution_count": 6,
   "id": "3633444d-7d62-4aee-acff-46f128f1f2a3",
   "metadata": {},
   "outputs": [
    {
     "name": "stdout",
     "output_type": "stream",
     "text": [
      "root\n",
      " |-- loan_id: integer (nullable = true)\n",
      " |-- id: integer (nullable = true)\n",
      " |-- code_gender: string (nullable = true)\n",
      " |-- flag_own_car: string (nullable = true)\n",
      " |-- flag_own_realty: string (nullable = true)\n",
      " |-- cnt_children: integer (nullable = true)\n",
      " |-- amt_income_total: double (nullable = true)\n",
      " |-- name_income_type: string (nullable = true)\n",
      " |-- name_education_type: string (nullable = true)\n",
      " |-- name_family_status: string (nullable = true)\n",
      " |-- name_housing_type: string (nullable = true)\n",
      " |-- days_birth: integer (nullable = true)\n",
      " |-- days_employed: integer (nullable = true)\n",
      " |-- flag_mobil: integer (nullable = true)\n",
      " |-- flag_work_phone: integer (nullable = true)\n",
      " |-- flag_phone: integer (nullable = true)\n",
      " |-- flag_email: integer (nullable = true)\n",
      " |-- occupation_type: string (nullable = true)\n",
      " |-- cnt_fam_members: double (nullable = true)\n",
      " |-- status: integer (nullable = true)\n",
      " |-- birthday: string (nullable = true)\n",
      " |-- job_start_date: string (nullable = true)\n",
      " |-- loan_date: string (nullable = true)\n",
      " |-- loan_amount: double (nullable = true)\n",
      "\n"
     ]
    }
   ],
   "source": [
    "df.printSchema()"
   ]
  },
  {
   "cell_type": "code",
   "execution_count": 7,
   "id": "dd80c7fe-c138-487d-9371-170f6dff683a",
   "metadata": {},
   "outputs": [],
   "source": [
    "df = df.sort(F.col('id'),F.col('loan_date'))"
   ]
  },
  {
   "cell_type": "code",
   "execution_count": 8,
   "id": "bd41ebbd-eee8-4e7d-9dad-e580d2d727e2",
   "metadata": {},
   "outputs": [
    {
     "name": "stdout",
     "output_type": "stream",
     "text": [
      "-RECORD 0-----------------------------------\n",
      " loan_id             | 1042                 \n",
      " id                  | 5008806              \n",
      " code_gender         | M                    \n",
      " flag_own_car        | Y                    \n",
      " flag_own_realty     | Y                    \n",
      " cnt_children        | 0                    \n",
      " amt_income_total    | 112500.0             \n",
      " name_income_type    | Working              \n",
      " name_education_type | Secondary / secon... \n",
      " name_family_status  | Married              \n",
      " name_housing_type   | House / apartment    \n",
      " days_birth          | -21474               \n",
      " days_employed       | -1134                \n",
      " flag_mobil          | 1                    \n",
      " flag_work_phone     | 0                    \n",
      " flag_phone          | 0                    \n",
      " flag_email          | 0                    \n",
      " occupation_type     | Security staff       \n",
      " cnt_fam_members     | 2.0                  \n",
      " status              | 0                    \n",
      " birthday            | 1962-12-02           \n",
      " job_start_date      | 2018-08-10           \n",
      " loan_date           | 2019-02-07           \n",
      " loan_amount         | 107.07612254863264   \n",
      "-RECORD 1-----------------------------------\n",
      " loan_id             | 1055                 \n",
      " id                  | 5008806              \n",
      " code_gender         | M                    \n",
      " flag_own_car        | Y                    \n",
      " flag_own_realty     | Y                    \n",
      " cnt_children        | 0                    \n",
      " amt_income_total    | 112500.0             \n",
      " name_income_type    | Working              \n",
      " name_education_type | Secondary / secon... \n",
      " name_family_status  | Married              \n",
      " name_housing_type   | House / apartment    \n",
      " days_birth          | -21474               \n",
      " days_employed       | -1134                \n",
      " flag_mobil          | 1                    \n",
      " flag_work_phone     | 0                    \n",
      " flag_phone          | 0                    \n",
      " flag_email          | 0                    \n",
      " occupation_type     | Security staff       \n",
      " cnt_fam_members     | 2.0                  \n",
      " status              | 0                    \n",
      " birthday            | 1962-12-02           \n",
      " job_start_date      | 2018-08-10           \n",
      " loan_date           | 2019-02-18           \n",
      " loan_amount         | 102.58733003715705   \n",
      "-RECORD 2-----------------------------------\n",
      " loan_id             | 1051                 \n",
      " id                  | 5008806              \n",
      " code_gender         | M                    \n",
      " flag_own_car        | Y                    \n",
      " flag_own_realty     | Y                    \n",
      " cnt_children        | 0                    \n",
      " amt_income_total    | 112500.0             \n",
      " name_income_type    | Working              \n",
      " name_education_type | Secondary / secon... \n",
      " name_family_status  | Married              \n",
      " name_housing_type   | House / apartment    \n",
      " days_birth          | -21474               \n",
      " days_employed       | -1134                \n",
      " flag_mobil          | 1                    \n",
      " flag_work_phone     | 0                    \n",
      " flag_phone          | 0                    \n",
      " flag_email          | 0                    \n",
      " occupation_type     | Security staff       \n",
      " cnt_fam_members     | 2.0                  \n",
      " status              | 0                    \n",
      " birthday            | 1962-12-02           \n",
      " job_start_date      | 2018-08-10           \n",
      " loan_date           | 2019-02-24           \n",
      " loan_amount         | 154.74866156248083   \n",
      "only showing top 3 rows\n",
      "\n"
     ]
    }
   ],
   "source": [
    "df.show(3,vertical = True)"
   ]
  },
  {
   "cell_type": "code",
   "execution_count": 9,
   "id": "c0733083-0909-45fd-b954-f0ef75dad45d",
   "metadata": {},
   "outputs": [
    {
     "name": "stdout",
     "output_type": "stream",
     "text": [
      "+----------+\n",
      "| loan_date|\n",
      "+----------+\n",
      "|2019-02-07|\n",
      "|2019-02-18|\n",
      "|2019-02-24|\n",
      "+----------+\n",
      "only showing top 3 rows\n",
      "\n"
     ]
    }
   ],
   "source": [
    "df.select(F.col('loan_date')).show(3)"
   ]
  },
  {
   "cell_type": "code",
   "execution_count": 10,
   "id": "4802d08e-80e3-48e3-9c8c-b3ba8a143fe2",
   "metadata": {},
   "outputs": [],
   "source": [
    "df = df.withColumn(\"loan_date\",F.to_date(F.col(\"loan_date\"),\"yyyy-MM-dd\"))"
   ]
  },
  {
   "cell_type": "code",
   "execution_count": 11,
   "id": "a885f5e7-34d4-438a-96ba-3e07b8449c18",
   "metadata": {},
   "outputs": [
    {
     "name": "stdout",
     "output_type": "stream",
     "text": [
      "root\n",
      " |-- loan_id: integer (nullable = true)\n",
      " |-- id: integer (nullable = true)\n",
      " |-- code_gender: string (nullable = true)\n",
      " |-- flag_own_car: string (nullable = true)\n",
      " |-- flag_own_realty: string (nullable = true)\n",
      " |-- cnt_children: integer (nullable = true)\n",
      " |-- amt_income_total: double (nullable = true)\n",
      " |-- name_income_type: string (nullable = true)\n",
      " |-- name_education_type: string (nullable = true)\n",
      " |-- name_family_status: string (nullable = true)\n",
      " |-- name_housing_type: string (nullable = true)\n",
      " |-- days_birth: integer (nullable = true)\n",
      " |-- days_employed: integer (nullable = true)\n",
      " |-- flag_mobil: integer (nullable = true)\n",
      " |-- flag_work_phone: integer (nullable = true)\n",
      " |-- flag_phone: integer (nullable = true)\n",
      " |-- flag_email: integer (nullable = true)\n",
      " |-- occupation_type: string (nullable = true)\n",
      " |-- cnt_fam_members: double (nullable = true)\n",
      " |-- status: integer (nullable = true)\n",
      " |-- birthday: string (nullable = true)\n",
      " |-- job_start_date: string (nullable = true)\n",
      " |-- loan_date: date (nullable = true)\n",
      " |-- loan_amount: double (nullable = true)\n",
      "\n"
     ]
    }
   ],
   "source": [
    "df.printSchema()"
   ]
  },
  {
   "cell_type": "code",
   "execution_count": 12,
   "id": "7df62352-8fb7-4355-b2e2-6b082da024dc",
   "metadata": {},
   "outputs": [],
   "source": [
    "#row_number()\n",
    "\n"
   ]
  },
  {
   "cell_type": "code",
   "execution_count": 13,
   "id": "1e9fdd84-b35f-4218-8566-167a9ed0febb",
   "metadata": {},
   "outputs": [],
   "source": [
    "#orderBy(F.desc(\"loan_date\"))))\n",
    "df =  df.withColumn(\"nb_previous_loans\", F.dense_rank().over(Window.partitionBy(\"id\").orderBy(F.col(\"loan_date\")))-1)"
   ]
  },
  {
   "cell_type": "code",
   "execution_count": 14,
   "id": "0675d618-6699-46eb-899c-9e2c20afc01f",
   "metadata": {},
   "outputs": [],
   "source": [
    "df = df.sort(F.col('id'),F.col('loan_date'))"
   ]
  },
  {
   "cell_type": "code",
   "execution_count": null,
   "id": "1b0e6094-ff52-4d98-b423-78ed2aa2e45b",
   "metadata": {},
   "outputs": [],
   "source": [
    "#Show output\n",
    "df.select(F.col('id'),F.col(\"nb_previous_loans\"),F.col('loan_date')).show(3,vertical = True)"
   ]
  },
  {
   "cell_type": "code",
   "execution_count": 16,
   "id": "ac3da6b9-dc23-4772-9e58-7b4a949144e6",
   "metadata": {},
   "outputs": [],
   "source": [
    "#Window.currentRow"
   ]
  },
  {
   "cell_type": "code",
   "execution_count": 17,
   "id": "897c7754-3a84-4474-8a04-97ec03c5ad71",
   "metadata": {},
   "outputs": [
    {
     "data": {
      "text/plain": [
       "104.83172629289484"
      ]
     },
     "execution_count": 17,
     "metadata": {},
     "output_type": "execute_result"
    }
   ],
   "source": [
    "(107.07612254863264 + 102.58733003715705)  / 2"
   ]
  },
  {
   "cell_type": "code",
   "execution_count": 18,
   "id": "ee1b748e-6e44-4965-9c1c-9d3b29b2c9a6",
   "metadata": {},
   "outputs": [],
   "source": [
    "w =Window.partitionBy(F.col('id')).orderBy(F.col(\"loan_date\")).rowsBetween(Window.unboundedPreceding,-1)\n",
    "df = df.withColumn('avg_amount_loans_previous', F.avg(F.col('loan_amount')).over(w))"
   ]
  },
  {
   "cell_type": "code",
   "execution_count": null,
   "id": "d0c93762-e827-43b8-98eb-9b51729e1719",
   "metadata": {},
   "outputs": [],
   "source": [
    "#show output\n",
    "df.select(F.col('id'),F.col(\"nb_previous_loans\"),F.col('loan_date'),F.col('avg_amount_loans_previous'),F.col('loan_amount')).show(10,vertical = True)"
   ]
  },
  {
   "cell_type": "code",
   "execution_count": null,
   "id": "4fe9b6fc-d81a-4a18-ae00-4dfa11104017",
   "metadata": {},
   "outputs": [],
   "source": []
  },
  {
   "cell_type": "code",
   "execution_count": 20,
   "id": "73ccb802-0ce6-4722-93e8-c794cbc5c0d9",
   "metadata": {},
   "outputs": [],
   "source": [
    "df = df.withColumn(\"age\",F.round(F.months_between(F.current_date(),F.to_date(F.col(\"birthday\"), \"yyyy-MM-dd\"), True)/12).cast('int'))\n",
    "\n"
   ]
  },
  {
   "cell_type": "code",
   "execution_count": null,
   "id": "83ece36d-cd15-4548-9539-ea94efc945e3",
   "metadata": {},
   "outputs": [],
   "source": [
    "#Show output\n",
    "df.select(F.col('age'), F.col('birthday')).show()"
   ]
  },
  {
   "cell_type": "code",
   "execution_count": 22,
   "id": "032aeef5-06b1-4274-9671-d2f4df316d53",
   "metadata": {},
   "outputs": [],
   "source": [
    "df = df.withColumn(\"years_on_the_job\",F.round(F.months_between(F.current_date(),F.to_date(F.col(\"job_start_date\"), \"yyyy-MM-dd\"), True)/12).cast('int'))\n",
    "\n",
    "\n"
   ]
  },
  {
   "cell_type": "code",
   "execution_count": null,
   "id": "b1157ee7-9c35-4c66-9e6b-18bf7ad51fad",
   "metadata": {},
   "outputs": [],
   "source": [
    "#Show output\n",
    "df.select(F.col('years_on_the_job'), F.col('job_start_date')).show()"
   ]
  },
  {
   "cell_type": "code",
   "execution_count": 24,
   "id": "681d1e61-a322-4244-93a9-1dea9d0039fa",
   "metadata": {},
   "outputs": [],
   "source": [
    "\n",
    "\n",
    "\n",
    "udf_flag_own_car = F.udf(lambda x: 0 if x == 'N' else 1,ShortType() )\n",
    "\n",
    "#when(col('flag_own_car') == 'N', 0).otherwise(1)\n",
    "\n",
    "df = df.withColumn(\"flag_own_car\",udf_flag_own_car(F.col('flag_own_car')))"
   ]
  },
  {
   "cell_type": "code",
   "execution_count": 25,
   "id": "7c607539-a5b3-48ae-ba06-e402286808f4",
   "metadata": {},
   "outputs": [
    {
     "name": "stdout",
     "output_type": "stream",
     "text": [
      "+------------+\n",
      "|flag_own_car|\n",
      "+------------+\n",
      "|           1|\n",
      "|           1|\n",
      "|           1|\n",
      "|           1|\n",
      "|           1|\n",
      "|           1|\n",
      "|           1|\n",
      "|           1|\n",
      "|           1|\n",
      "|           1|\n",
      "|           1|\n",
      "|           1|\n",
      "|           1|\n",
      "|           1|\n",
      "|           1|\n",
      "|           1|\n",
      "|           1|\n",
      "|           1|\n",
      "|           1|\n",
      "|           1|\n",
      "+------------+\n",
      "only showing top 20 rows\n",
      "\n"
     ]
    }
   ],
   "source": [
    "df.select(F.col('flag_own_car')).show()"
   ]
  },
  {
   "cell_type": "code",
   "execution_count": 26,
   "id": "d7a9b8b0-8b28-4ef1-a9ad-160a66520a9b",
   "metadata": {},
   "outputs": [],
   "source": [
    "#df.select('id', 'age', 'years_on_the_job', 'nb_previous_loans', 'avg_amount_loans_previous', 'flag_own_car', 'status').write.format(\"parquet\").save(\"train_model.parquet\")\n"
   ]
  },
  {
   "cell_type": "code",
   "execution_count": 27,
   "id": "e132a0f7-9366-4a34-91b1-107850c34e20",
   "metadata": {},
   "outputs": [],
   "source": [
    "#df.select('id', 'age', 'years_on_the_job', 'nb_previous_loans', 'avg_amount_loans_previous', 'flag_own_car', 'status').write.format(\"delta\").save(\"train_model.delta\")"
   ]
  },
  {
   "cell_type": "code",
   "execution_count": 32,
   "id": "0674bac9-6b72-45a5-a737-0180f29a8781",
   "metadata": {},
   "outputs": [],
   "source": [
    "df.select('id', 'age', 'years_on_the_job', 'nb_previous_loans', 'avg_amount_loans_previous', 'flag_own_car', 'status')\\\n",
    ".repartition(1).write.format(\"csv\").option(\"header\", \"true\").save(\"train_model.csv\")\n",
    "\n",
    "#format(\"csv\").save(\"train_model.csv\")\n"
   ]
  },
  {
   "cell_type": "code",
   "execution_count": 29,
   "id": "7d9c5382-9888-41bf-b5b0-09b7a0f52bf2",
   "metadata": {},
   "outputs": [
    {
     "name": "stdout",
     "output_type": "stream",
     "text": [
      "dataset_credit_risk.csv\t\t\t     train_model.csv\t  work\n",
      "Features_engineering-Notebook_1-Spark.ipynb  train_model.delta\n",
      "train_model\t\t\t\t     train_model.parquet\n"
     ]
    }
   ],
   "source": [
    "!ls"
   ]
  },
  {
   "cell_type": "code",
   "execution_count": null,
   "id": "994373bb-691f-47eb-8e0c-60ca25a97877",
   "metadata": {},
   "outputs": [],
   "source": []
  }
 ],
 "metadata": {
  "kernelspec": {
   "display_name": "Python 3 (ipykernel)",
   "language": "python",
   "name": "python3"
  },
  "language_info": {
   "codemirror_mode": {
    "name": "ipython",
    "version": 3
   },
   "file_extension": ".py",
   "mimetype": "text/x-python",
   "name": "python",
   "nbconvert_exporter": "python",
   "pygments_lexer": "ipython3",
   "version": "3.9.7"
  }
 },
 "nbformat": 4,
 "nbformat_minor": 5
}
