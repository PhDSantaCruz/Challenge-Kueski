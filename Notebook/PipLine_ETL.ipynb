{
 "cells": [
  {
   "cell_type": "code",
   "execution_count": 1,
   "id": "fe790aad-80a9-4360-9721-cc430556f948",
   "metadata": {},
   "outputs": [],
   "source": [
    "from pyspark.sql.functions import dense_rank,col,avg,to_date,round as round_,current_date,to_date as to_date_,months_between,udf\n",
    "from pyspark.sql.window import Window\n",
    "\n",
    "from pyspark.sql import SparkSession\n",
    "from delta import *\n",
    "from pyspark.sql.types import ShortType\n",
    "\n"
   ]
  },
  {
   "cell_type": "code",
   "execution_count": 2,
   "id": "57d97c88-1cdd-40f0-9227-d9dd74f76b1d",
   "metadata": {},
   "outputs": [],
   "source": [
    "\n",
    "builder = SparkSession.builder.appName(\"MyApp\") \\\n",
    "    .config(\"spark.sql.extensions\", \"io.delta.sql.DeltaSparkSessionExtension\") \\\n",
    "    .config(\"spark.sql.catalog.spark_catalog\", \"org.apache.spark.sql.delta.catalog.DeltaCatalog\")\n",
    "\n",
    "spark = configure_spark_with_delta_pip(builder).getOrCreate()\n",
    "\n",
    "udf_flag_own_car = udf(lambda x: 0 if x == 'N' else 1,ShortType() )"
   ]
  },
  {
   "cell_type": "code",
   "execution_count": 3,
   "id": "ddda91e3-dcdb-4e92-be00-720269eaea6d",
   "metadata": {},
   "outputs": [],
   "source": [
    "spark.read.csv('dataset_credit_risk.csv',inferSchema =True, header=True).na.drop()\\\n",
    ".sort(col('id'),col('loan_date'))\\\n",
    ".withColumn(\"loan_date\",to_date(col(\"loan_date\"),\"yyyy-MM-dd\"))\\\n",
    ".withColumn(\"nb_previous_loans\", dense_rank().over(Window.partitionBy(\"id\").orderBy(col(\"loan_date\")))-1)\\\n",
    ".sort(col('id'),col('loan_date'))\\\n",
    ".withColumn('avg_amount_loans_previous', avg(col('loan_amount'))\n",
    "            .over(Window.partitionBy(col('id')).orderBy(col(\"loan_date\")).rowsBetween(Window.unboundedPreceding,-1)))\\\n",
    ".withColumn(\"age\",round_(months_between(current_date(),to_date_(col(\"birthday\"), \"yyyy-MM-dd\"), True)/12).cast('int'))\\\n",
    ".withColumn(\"years_on_the_job\",round_(months_between(current_date(),to_date(col(\"job_start_date\"), \"yyyy-MM-dd\"), True)/12).cast('int'))\\\n",
    ".withColumn(\"flag_own_car\",udf_flag_own_car(col('flag_own_car')))\\\n",
    ".select('id', 'age', 'years_on_the_job', 'nb_previous_loans', 'avg_amount_loans_previous', 'flag_own_car', 'status').write.format(\"delta\").save(\"train_model_.delta\")\n"
   ]
  },
  {
   "cell_type": "code",
   "execution_count": null,
   "id": "ffe61ffd-baa7-4c27-aee1-9d3224d27db9",
   "metadata": {},
   "outputs": [],
   "source": []
  }
 ],
 "metadata": {
  "kernelspec": {
   "display_name": "Python 3 (ipykernel)",
   "language": "python",
   "name": "python3"
  },
  "language_info": {
   "codemirror_mode": {
    "name": "ipython",
    "version": 3
   },
   "file_extension": ".py",
   "mimetype": "text/x-python",
   "name": "python",
   "nbconvert_exporter": "python",
   "pygments_lexer": "ipython3",
   "version": "3.9.7"
  }
 },
 "nbformat": 4,
 "nbformat_minor": 5
}
