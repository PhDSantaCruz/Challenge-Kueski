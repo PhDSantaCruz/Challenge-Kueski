{
 "cells": [
  {
   "cell_type": "code",
   "execution_count": 1,
   "metadata": {
    "tags": []
   },
   "outputs": [
    {
     "ename": "ModuleNotFoundError",
     "evalue": "No module named 'pyspark'",
     "output_type": "error",
     "traceback": [
      "\u001b[1;31m---------------------------------------------------------------------------\u001b[0m",
      "\u001b[1;31mModuleNotFoundError\u001b[0m                       Traceback (most recent call last)",
      "\u001b[1;32m<ipython-input-1-e3414907a356>\u001b[0m in \u001b[0;36m<module>\u001b[1;34m\u001b[0m\n\u001b[0;32m      1\u001b[0m \u001b[1;31m# Import dataframe into MySQL\u001b[0m\u001b[1;33m\u001b[0m\u001b[1;33m\u001b[0m\u001b[1;33m\u001b[0m\u001b[0m\n\u001b[0;32m      2\u001b[0m \u001b[1;32mimport\u001b[0m \u001b[0msqlalchemy\u001b[0m\u001b[1;33m\u001b[0m\u001b[1;33m\u001b[0m\u001b[0m\n\u001b[1;32m----> 3\u001b[1;33m \u001b[1;32mfrom\u001b[0m \u001b[0mpyspark\u001b[0m\u001b[1;33m.\u001b[0m\u001b[0msql\u001b[0m \u001b[1;32mimport\u001b[0m \u001b[0mfunctions\u001b[0m \u001b[1;32mas\u001b[0m \u001b[0mF\u001b[0m\u001b[1;33m\u001b[0m\u001b[1;33m\u001b[0m\u001b[0m\n\u001b[0m\u001b[0;32m      4\u001b[0m \u001b[1;32mfrom\u001b[0m \u001b[0mpyspark\u001b[0m\u001b[1;33m.\u001b[0m\u001b[0msql\u001b[0m\u001b[1;33m.\u001b[0m\u001b[0mwindow\u001b[0m \u001b[1;32mimport\u001b[0m \u001b[0mWindow\u001b[0m\u001b[1;33m\u001b[0m\u001b[1;33m\u001b[0m\u001b[0m\n\u001b[0;32m      5\u001b[0m \u001b[1;32mimport\u001b[0m \u001b[0mpyspark\u001b[0m\u001b[1;33m\u001b[0m\u001b[1;33m\u001b[0m\u001b[0m\n",
      "\u001b[1;31mModuleNotFoundError\u001b[0m: No module named 'pyspark'"
     ]
    }
   ],
   "source": [
    "# Import dataframe into MySQL\n",
    "import sqlalchemy\n",
    "from pyspark.sql import functions as F\n",
    "from pyspark.sql.window import Window\n",
    "import pyspark\n",
    "from pyspark.sql import SparkSession\n",
    "from delta import *\n",
    "from pyspark.sql.types import ShortType\n",
    "\n",
    "builder = pyspark.sql.SparkSession.builder.appName(\"MyApp\") \\\n",
    "    .config(\"spark.sql.extensions\", \"io.delta.sql.DeltaSparkSessionExtension\") \\\n",
    "    .config(\"spark.sql.catalog.spark_catalog\", \"org.apache.spark.sql.delta.catalog.DeltaCatalog\")\n",
    "\n",
    "spark = configure_spark_with_delta_pip(builder).getOrCreate()\n",
    "\n",
    "\n",
    "\n",
    "\n",
    "#spark = SparkSession.builder.master(\"local[1]\") \\\n",
    " #                   .appName('Test') \\\n",
    " #                   .getOrCreate()\n",
    "\n"
   ]
  },
  {
   "cell_type": "code",
   "execution_count": null,
   "metadata": {},
   "outputs": [],
   "source": []
  },
  {
   "cell_type": "code",
   "execution_count": 4,
   "metadata": {},
   "outputs": [],
   "source": [
    "#!pyspark --packages io.delta:delta-core_2.12:1.1.0 --conf \"spark.sql.extensions=io.delta.sql.DeltaSparkSessionExtension\" --conf \"spark.sql.catalog.spark_catalog=org.apache.spark.sql.delta.catalog.DeltaCatalog\"\n"
   ]
  },
  {
   "cell_type": "code",
   "execution_count": 5,
   "metadata": {},
   "outputs": [],
   "source": [
    "df = spark.read.csv('dataset_credit_risk.csv',inferSchema =True, header=True).na.drop()\n"
   ]
  },
  {
   "cell_type": "code",
   "execution_count": 6,
   "metadata": {},
   "outputs": [
    {
     "name": "stdout",
     "output_type": "stream",
     "text": [
      "root\n",
      " |-- loan_id: integer (nullable = true)\n",
      " |-- id: integer (nullable = true)\n",
      " |-- code_gender: string (nullable = true)\n",
      " |-- flag_own_car: string (nullable = true)\n",
      " |-- flag_own_realty: string (nullable = true)\n",
      " |-- cnt_children: integer (nullable = true)\n",
      " |-- amt_income_total: double (nullable = true)\n",
      " |-- name_income_type: string (nullable = true)\n",
      " |-- name_education_type: string (nullable = true)\n",
      " |-- name_family_status: string (nullable = true)\n",
      " |-- name_housing_type: string (nullable = true)\n",
      " |-- days_birth: integer (nullable = true)\n",
      " |-- days_employed: integer (nullable = true)\n",
      " |-- flag_mobil: integer (nullable = true)\n",
      " |-- flag_work_phone: integer (nullable = true)\n",
      " |-- flag_phone: integer (nullable = true)\n",
      " |-- flag_email: integer (nullable = true)\n",
      " |-- occupation_type: string (nullable = true)\n",
      " |-- cnt_fam_members: double (nullable = true)\n",
      " |-- status: integer (nullable = true)\n",
      " |-- birthday: string (nullable = true)\n",
      " |-- job_start_date: string (nullable = true)\n",
      " |-- loan_date: string (nullable = true)\n",
      " |-- loan_amount: double (nullable = true)\n",
      "\n"
     ]
    }
   ],
   "source": [
    "df.printSchema()"
   ]
  },
  {
   "cell_type": "code",
   "execution_count": 7,
   "metadata": {},
   "outputs": [],
   "source": [
    "df = df.sort(F.col('id'),F.col('loan_date'))"
   ]
  },
  {
   "cell_type": "code",
   "execution_count": 8,
   "metadata": {},
   "outputs": [
    {
     "name": "stdout",
     "output_type": "stream",
     "text": [
      "-RECORD 0-----------------------------------\n",
      " loan_id             | 1042                 \n",
      " id                  | 5008806              \n",
      " code_gender         | M                    \n",
      " flag_own_car        | Y                    \n",
      " flag_own_realty     | Y                    \n",
      " cnt_children        | 0                    \n",
      " amt_income_total    | 112500.0             \n",
      " name_income_type    | Working              \n",
      " name_education_type | Secondary / secon... \n",
      " name_family_status  | Married              \n",
      " name_housing_type   | House / apartment    \n",
      " days_birth          | -21474               \n",
      " days_employed       | -1134                \n",
      " flag_mobil          | 1                    \n",
      " flag_work_phone     | 0                    \n",
      " flag_phone          | 0                    \n",
      " flag_email          | 0                    \n",
      " occupation_type     | Security staff       \n",
      " cnt_fam_members     | 2.0                  \n",
      " status              | 0                    \n",
      " birthday            | 1962-12-02           \n",
      " job_start_date      | 2018-08-10           \n",
      " loan_date           | 2019-02-07           \n",
      " loan_amount         | 107.07612254863264   \n",
      "-RECORD 1-----------------------------------\n",
      " loan_id             | 1055                 \n",
      " id                  | 5008806              \n",
      " code_gender         | M                    \n",
      " flag_own_car        | Y                    \n",
      " flag_own_realty     | Y                    \n",
      " cnt_children        | 0                    \n",
      " amt_income_total    | 112500.0             \n",
      " name_income_type    | Working              \n",
      " name_education_type | Secondary / secon... \n",
      " name_family_status  | Married              \n",
      " name_housing_type   | House / apartment    \n",
      " days_birth          | -21474               \n",
      " days_employed       | -1134                \n",
      " flag_mobil          | 1                    \n",
      " flag_work_phone     | 0                    \n",
      " flag_phone          | 0                    \n",
      " flag_email          | 0                    \n",
      " occupation_type     | Security staff       \n",
      " cnt_fam_members     | 2.0                  \n",
      " status              | 0                    \n",
      " birthday            | 1962-12-02           \n",
      " job_start_date      | 2018-08-10           \n",
      " loan_date           | 2019-02-18           \n",
      " loan_amount         | 102.58733003715705   \n",
      "-RECORD 2-----------------------------------\n",
      " loan_id             | 1051                 \n",
      " id                  | 5008806              \n",
      " code_gender         | M                    \n",
      " flag_own_car        | Y                    \n",
      " flag_own_realty     | Y                    \n",
      " cnt_children        | 0                    \n",
      " amt_income_total    | 112500.0             \n",
      " name_income_type    | Working              \n",
      " name_education_type | Secondary / secon... \n",
      " name_family_status  | Married              \n",
      " name_housing_type   | House / apartment    \n",
      " days_birth          | -21474               \n",
      " days_employed       | -1134                \n",
      " flag_mobil          | 1                    \n",
      " flag_work_phone     | 0                    \n",
      " flag_phone          | 0                    \n",
      " flag_email          | 0                    \n",
      " occupation_type     | Security staff       \n",
      " cnt_fam_members     | 2.0                  \n",
      " status              | 0                    \n",
      " birthday            | 1962-12-02           \n",
      " job_start_date      | 2018-08-10           \n",
      " loan_date           | 2019-02-24           \n",
      " loan_amount         | 154.74866156248083   \n",
      "only showing top 3 rows\n",
      "\n"
     ]
    }
   ],
   "source": [
    "df.show(3,vertical = True)"
   ]
  },
  {
   "cell_type": "code",
   "execution_count": 9,
   "metadata": {},
   "outputs": [
    {
     "name": "stdout",
     "output_type": "stream",
     "text": [
      "+----------+\n",
      "| loan_date|\n",
      "+----------+\n",
      "|2019-02-07|\n",
      "|2019-02-18|\n",
      "|2019-02-24|\n",
      "+----------+\n",
      "only showing top 3 rows\n",
      "\n"
     ]
    }
   ],
   "source": [
    "df.select(F.col('loan_date')).show(3)"
   ]
  },
  {
   "cell_type": "code",
   "execution_count": 10,
   "metadata": {},
   "outputs": [],
   "source": [
    "df = df.withColumn(\"loan_date\",F.to_date(F.col(\"loan_date\"),\"yyyy-MM-dd\"))"
   ]
  },
  {
   "cell_type": "code",
   "execution_count": 11,
   "metadata": {},
   "outputs": [
    {
     "name": "stdout",
     "output_type": "stream",
     "text": [
      "root\n",
      " |-- loan_id: integer (nullable = true)\n",
      " |-- id: integer (nullable = true)\n",
      " |-- code_gender: string (nullable = true)\n",
      " |-- flag_own_car: string (nullable = true)\n",
      " |-- flag_own_realty: string (nullable = true)\n",
      " |-- cnt_children: integer (nullable = true)\n",
      " |-- amt_income_total: double (nullable = true)\n",
      " |-- name_income_type: string (nullable = true)\n",
      " |-- name_education_type: string (nullable = true)\n",
      " |-- name_family_status: string (nullable = true)\n",
      " |-- name_housing_type: string (nullable = true)\n",
      " |-- days_birth: integer (nullable = true)\n",
      " |-- days_employed: integer (nullable = true)\n",
      " |-- flag_mobil: integer (nullable = true)\n",
      " |-- flag_work_phone: integer (nullable = true)\n",
      " |-- flag_phone: integer (nullable = true)\n",
      " |-- flag_email: integer (nullable = true)\n",
      " |-- occupation_type: string (nullable = true)\n",
      " |-- cnt_fam_members: double (nullable = true)\n",
      " |-- status: integer (nullable = true)\n",
      " |-- birthday: string (nullable = true)\n",
      " |-- job_start_date: string (nullable = true)\n",
      " |-- loan_date: date (nullable = true)\n",
      " |-- loan_amount: double (nullable = true)\n",
      "\n"
     ]
    }
   ],
   "source": [
    "df.printSchema()"
   ]
  },
  {
   "cell_type": "code",
   "execution_count": 12,
   "metadata": {},
   "outputs": [],
   "source": [
    "#row_number()\n",
    "\n"
   ]
  },
  {
   "cell_type": "code",
   "execution_count": 13,
   "metadata": {},
   "outputs": [],
   "source": [
    "#orderBy(F.desc(\"loan_date\"))))\n",
    "df =  df.withColumn(\"nb_previous_loans\", F.dense_rank().over(Window.partitionBy(\"id\").orderBy(F.col(\"loan_date\")))-1)"
   ]
  },
  {
   "cell_type": "code",
   "execution_count": 14,
   "metadata": {},
   "outputs": [],
   "source": [
    "df = df.sort(F.col('id'),F.col('loan_date'))"
   ]
  },
  {
   "cell_type": "code",
   "execution_count": null,
   "metadata": {},
   "outputs": [],
   "source": [
    "#Show output\n",
    "df.select(F.col('id'),F.col(\"nb_previous_loans\"),F.col('loan_date')).show(3,vertical = True)"
   ]
  },
  {
   "cell_type": "code",
   "execution_count": 16,
   "metadata": {},
   "outputs": [],
   "source": [
    "#Window.currentRow"
   ]
  },
  {
   "cell_type": "code",
   "execution_count": 17,
   "metadata": {},
   "outputs": [
    {
     "data": {
      "text/plain": [
       "104.83172629289484"
      ]
     },
     "execution_count": 17,
     "metadata": {},
     "output_type": "execute_result"
    }
   ],
   "source": [
    "(107.07612254863264 + 102.58733003715705)  / 2"
   ]
  },
  {
   "cell_type": "code",
   "execution_count": 18,
   "metadata": {},
   "outputs": [],
   "source": [
    "w =Window.partitionBy(F.col('id')).orderBy(F.col(\"loan_date\")).rowsBetween(Window.unboundedPreceding,-1)\n",
    "df = df.withColumn('avg_amount_loans_previous', F.avg(F.col('loan_amount')).over(w))"
   ]
  },
  {
   "cell_type": "code",
   "execution_count": null,
   "metadata": {},
   "outputs": [],
   "source": [
    "#show output\n",
    "df.select(F.col('id'),F.col(\"nb_previous_loans\"),F.col('loan_date'),F.col('avg_amount_loans_previous'),F.col('loan_amount')).show(10,vertical = True)"
   ]
  },
  {
   "cell_type": "code",
   "execution_count": null,
   "metadata": {},
   "outputs": [],
   "source": []
  },
  {
   "cell_type": "code",
   "execution_count": 20,
   "metadata": {},
   "outputs": [],
   "source": [
    "df = df.withColumn(\"age\",F.round(F.months_between(F.current_date(),F.to_date(F.col(\"birthday\"), \"yyyy-MM-dd\"), True)/12).cast('int'))\n",
    "\n"
   ]
  },
  {
   "cell_type": "code",
   "execution_count": null,
   "metadata": {},
   "outputs": [],
   "source": [
    "#Show output\n",
    "df.select(F.col('age'), F.col('birthday')).show()"
   ]
  },
  {
   "cell_type": "code",
   "execution_count": 22,
   "metadata": {},
   "outputs": [],
   "source": [
    "df = df.withColumn(\"years_on_the_job\",F.round(F.months_between(F.current_date(),F.to_date(F.col(\"job_start_date\"), \"yyyy-MM-dd\"), True)/12).cast('int'))\n",
    "\n",
    "\n"
   ]
  },
  {
   "cell_type": "code",
   "execution_count": null,
   "metadata": {},
   "outputs": [],
   "source": [
    "#Show output\n",
    "df.select(F.col('years_on_the_job'), F.col('job_start_date')).show()"
   ]
  },
  {
   "cell_type": "code",
   "execution_count": 24,
   "metadata": {},
   "outputs": [],
   "source": [
    "\n",
    "\n",
    "\n",
    "udf_flag_own_car = F.udf(lambda x: 0 if x == 'N' else 1,ShortType() )\n",
    "\n",
    "#when(col('flag_own_car') == 'N', 0).otherwise(1)\n",
    "\n",
    "df = df.withColumn(\"flag_own_car\",udf_flag_own_car(F.col('flag_own_car')))"
   ]
  },
  {
   "cell_type": "code",
   "execution_count": 25,
   "metadata": {},
   "outputs": [
    {
     "name": "stdout",
     "output_type": "stream",
     "text": [
      "+------------+\n",
      "|flag_own_car|\n",
      "+------------+\n",
      "|           1|\n",
      "|           1|\n",
      "|           1|\n",
      "|           1|\n",
      "|           1|\n",
      "|           1|\n",
      "|           1|\n",
      "|           1|\n",
      "|           1|\n",
      "|           1|\n",
      "|           1|\n",
      "|           1|\n",
      "|           1|\n",
      "|           1|\n",
      "|           1|\n",
      "|           1|\n",
      "|           1|\n",
      "|           1|\n",
      "|           1|\n",
      "|           1|\n",
      "+------------+\n",
      "only showing top 20 rows\n",
      "\n"
     ]
    }
   ],
   "source": [
    "df.select(F.col('flag_own_car')).show()"
   ]
  },
  {
   "cell_type": "code",
   "execution_count": 26,
   "metadata": {},
   "outputs": [],
   "source": [
    "#df.select('id', 'age', 'years_on_the_job', 'nb_previous_loans', 'avg_amount_loans_previous', 'flag_own_car', 'status').write.format(\"parquet\").save(\"train_model.parquet\")\n"
   ]
  },
  {
   "cell_type": "code",
   "execution_count": 27,
   "metadata": {},
   "outputs": [],
   "source": [
    "#df.select('id', 'age', 'years_on_the_job', 'nb_previous_loans', 'avg_amount_loans_previous', 'flag_own_car', 'status').write.format(\"delta\").save(\"train_model.delta\")"
   ]
  },
  {
   "cell_type": "code",
   "execution_count": 32,
   "metadata": {},
   "outputs": [],
   "source": [
    "df.select('id', 'age', 'years_on_the_job', 'nb_previous_loans', 'avg_amount_loans_previous', 'flag_own_car', 'status')\\\n",
    ".repartition(1).write.format(\"csv\").option(\"header\", \"true\").save(\"train_model.csv\")\n",
    "\n",
    "#format(\"csv\").save(\"train_model.csv\")\n"
   ]
  },
  {
   "cell_type": "code",
   "execution_count": 29,
   "metadata": {},
   "outputs": [
    {
     "name": "stdout",
     "output_type": "stream",
     "text": [
      "dataset_credit_risk.csv\t\t\t     train_model.csv\t  work\n",
      "Features_engineering-Notebook_1-Spark.ipynb  train_model.delta\n",
      "train_model\t\t\t\t     train_model.parquet\n"
     ]
    }
   ],
   "source": [
    "!ls"
   ]
  },
  {
   "cell_type": "code",
   "execution_count": null,
   "metadata": {},
   "outputs": [],
   "source": [
    "\n",
    "database_username = 'ENTER USERNAME'\n",
    "database_password = 'ENTER USERNAME PASSWORD'\n",
    "database_ip       = 'ENTER DATABASE IP'\n",
    "database_name     = 'ENTER DATABASE NAME'\n",
    "database_connection = sqlalchemy.create_engine('mysql+mysqlconnector://{0}:{1}@{2}/{3}'.\n",
    "                                               format(database_username, database_password, \n",
    "                                                      database_ip, database_name))\n",
    "\n",
    "\n",
    "frame.to_sql(con=database_connection, name='table_name_for_df', if_exists='replace')"
   ]
  }
 ],
 "metadata": {
  "kernelspec": {
   "display_name": "Python 3",
   "language": "python",
   "name": "python3"
  },
  "language_info": {
   "codemirror_mode": {
    "name": "ipython",
    "version": 3
   },
   "file_extension": ".py",
   "mimetype": "text/x-python",
   "name": "python",
   "nbconvert_exporter": "python",
   "pygments_lexer": "ipython3",
   "version": "3.7.4"
  }
 },
 "nbformat": 4,
 "nbformat_minor": 5
}
