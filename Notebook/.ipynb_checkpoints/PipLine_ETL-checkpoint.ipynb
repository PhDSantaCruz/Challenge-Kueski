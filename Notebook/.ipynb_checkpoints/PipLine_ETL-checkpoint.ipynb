{
 "cells": [
  {
   "cell_type": "code",
   "execution_count": 1,
   "metadata": {},
   "outputs": [],
   "source": [
    "from pyspark.sql.functions import dense_rank,col,avg,to_date,round as round_,current_date,to_date as to_date_,months_between,udf\n",
    "from pyspark.sql.window import Window\n",
    "\n",
    "from pyspark.sql import SparkSession\n",
    "from delta import *\n",
    "from pyspark.sql.types import ShortType\n",
    "\n",
    "# Import dataframe into MySQL\n",
    "import sqlalchemy\n"
   ]
  },
  {
   "cell_type": "code",
   "execution_count": 2,
   "metadata": {},
   "outputs": [],
   "source": [
    "\n",
    "builder = SparkSession.builder.appName(\"MyApp\") \\\n",
    "    .config(\"spark.jars\", \"/usr/local/lib/postgresql-42.2.5.jar\")\\\n",
    "    .config(\"spark.sql.extensions\", \"io.delta.sql.DeltaSparkSessionExtension\") \\\n",
    "    .config(\"spark.sql.catalog.spark_catalog\", \"org.apache.spark.sql.delta.catalog.DeltaCatalog\")\n",
    "\n",
    "spark = configure_spark_with_delta_pip(builder).getOrCreate()\n",
    "\n",
    "#spark.conf.set(\"jars\", \"s3://bucket-name/folder-name/mysql-connector-java-5.1.38-bin.jar\")\n",
    "\n",
    "udf_flag_own_car = udf(lambda x: 0 if x == 'N' else 1,ShortType() )"
   ]
  },
  {
   "cell_type": "code",
   "execution_count": 18,
   "metadata": {},
   "outputs": [],
   "source": [
    "df_features = spark.read.csv('dataset_credit_risk.csv',inferSchema =True, header=True).na.drop()\\\n",
    ".sort(col('id'),col('loan_date'))\\\n",
    ".withColumn(\"loan_date\",to_date(col(\"loan_date\"),\"yyyy-MM-dd\"))\\\n",
    ".withColumn(\"nb_previous_loans\", dense_rank().over(Window.partitionBy(\"id\").orderBy(col(\"loan_date\")))-1)\\\n",
    ".sort(col('id'),col('loan_date'))\\\n",
    ".withColumn('avg_amount_loans_previous', avg(col('loan_amount'))\n",
    "            .over(Window.partitionBy(col('id')).orderBy(col(\"loan_date\")).rowsBetween(Window.unboundedPreceding,-1)))\\\n",
    ".withColumn(\"age\",round_(months_between(current_date(),to_date_(col(\"birthday\"), \"yyyy-MM-dd\"), True)/12).cast('int'))\\\n",
    ".withColumn(\"years_on_the_job\",round_(months_between(current_date(),to_date(col(\"job_start_date\"), \"yyyy-MM-dd\"), True)/12).cast('int'))\\\n",
    ".withColumn(\"flag_own_car\",udf_flag_own_car(col('flag_own_car')))\\\n",
    "\n",
    "\n",
    "#------------------------------------------------\n",
    "# Features To MySQL DB \n",
    "#-------------------------------------------------\n",
    "df_features.select('id', 'age', 'years_on_the_job', 'nb_previous_loans', 'avg_amount_loans_previous', 'flag_own_car')\\\n",
    ".write.format(\"jdbc\").mode(\"append\")\\\n",
    ".option(\"url\", \"jdbc:postgresql://172.17.0.3:5432/kueski\") \\\n",
    ".option(\"driver\", \"org.postgresql.Driver\").option(\"dbtable\", \"features\") \\\n",
    ".option(\"user\", \"postgres\").option(\"password\", \"postgresmaster\").save()\\\n",
    "\n",
    "#------------------------------------------------\n",
    "# Features To CSV for model training\n",
    "#-------------------------------------------------\n",
    "df_features.select('id', 'age', 'years_on_the_job', 'nb_previous_loans', 'avg_amount_loans_previous', 'flag_own_car', 'status')\\\n",
    ".repartition(1).write.format(\"csv\").option(\"header\", \"true\").save(\"train.csv\")"
   ]
  },
  {
   "cell_type": "code",
   "execution_count": null,
   "metadata": {},
   "outputs": [],
   "source": []
  },
  {
   "cell_type": "code",
   "execution_count": null,
   "metadata": {},
   "outputs": [],
   "source": [
    "#.write.format('jdbc').options(\n",
    "#      url='jdbc:mysql://localhost/Kueski',\n",
    "#      driver='com.mysql.jdbc.Driver',\n",
    "#      dbtable='features',\n",
    "#      user='root',\n",
    "#      password='123').mode('append').save()"
   ]
  },
  {
   "cell_type": "code",
   "execution_count": 1,
   "metadata": {},
   "outputs": [],
   "source": [
    " query = \"\"\"\n",
    "        SELECT age,nb_previous_loans,years_on_the_job,avg_amount_loans_previous,flag_own_car \n",
    "        FROM features\n",
    "        WHERE id=%s \n",
    "        ORDER BY nb_previous_loans DESC\n",
    "        LIMIT 1\n",
    "        \"\"\""
   ]
  },
  {
   "cell_type": "code",
   "execution_count": null,
   "metadata": {},
   "outputs": [],
   "source": [
    "print(u)"
   ]
  }
 ],
 "metadata": {
  "kernelspec": {
   "display_name": "Python 3",
   "language": "python",
   "name": "python3"
  },
  "language_info": {
   "codemirror_mode": {
    "name": "ipython",
    "version": 3
   },
   "file_extension": ".py",
   "mimetype": "text/x-python",
   "name": "python",
   "nbconvert_exporter": "python",
   "pygments_lexer": "ipython3",
   "version": "3.7.4"
  }
 },
 "nbformat": 4,
 "nbformat_minor": 5
}
