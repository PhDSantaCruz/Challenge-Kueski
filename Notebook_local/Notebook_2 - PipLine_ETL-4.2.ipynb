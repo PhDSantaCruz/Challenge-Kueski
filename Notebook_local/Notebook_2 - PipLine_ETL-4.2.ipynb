{
 "cells": [
  {
   "cell_type": "markdown",
   "id": "c1495969-81a5-4856-945e-1e13d3d99e00",
   "metadata": {},
   "source": [
    "This notebook cotains  ETL process"
   ]
  },
  {
   "cell_type": "code",
   "execution_count": 6,
   "id": "ddda91e3-dcdb-4e92-be00-720269eaea6d",
   "metadata": {},
   "outputs": [],
   "source": [
    "%%writefile preprocessing.py\n",
    "\n",
    "\n",
    "from pyspark.sql.functions import dense_rank,col,avg,to_date,round as round_,current_date,to_date as to_date_,months_between,udf\n",
    "from pyspark.sql.window import Window\n",
    "\n",
    "from pyspark.sql import SparkSession\n",
    "from delta import *\n",
    "from pyspark.sql.types import ShortType\n",
    "\n",
    "# Import dataframe into MySQL\n",
    "import sqlalchemy\n",
    "\n",
    "\n",
    "builder = SparkSession.builder.appName(\"MyApp\") \\\n",
    "    .config(\"spark.jars\", \"/usr/local/lib/postgresql-42.2.5.jar\")\\\n",
    "    .config(\"spark.sql.extensions\", \"io.delta.sql.DeltaSparkSessionExtension\") \\\n",
    "    .config(\"spark.sql.catalog.spark_catalog\", \"org.apache.spark.sql.delta.catalog.DeltaCatalog\")\n",
    "\n",
    "spark = configure_spark_with_delta_pip(builder).getOrCreate()\n",
    "\n",
    "\n",
    "udf_flag_own_car = udf(lambda x: 0 if x == 'N' else 1,ShortType() )\n",
    "\n",
    "\n",
    "df_features = spark.read.csv('dataset_credit_risk.csv',inferSchema =True, header=True).na.drop()\\\n",
    ".withColumn(\"loan_date\",to_date(col(\"loan_date\"),\"yyyy-MM-dd\"))\\\n",
    ".withColumn(\"nb_previous_loans\", dense_rank().over(Window.partitionBy(\"id\").orderBy(col(\"loan_date\")))-1)\\\n",
    ".sort(col('id'),col('loan_date'))\\\n",
    ".withColumn('avg_amount_loans_previous', avg(col('loan_amount'))\n",
    "            .over(Window.partitionBy(col('id')).orderBy(col(\"loan_date\")).rowsBetween(Window.unboundedPreceding,-1)))\\\n",
    ".withColumn(\"age\",round_(months_between(current_date(),to_date_(col(\"birthday\"), \"yyyy-MM-dd\"), True)/12).cast('int'))\\\n",
    ".withColumn(\"years_on_the_job\",round_(months_between(current_date(),to_date(col(\"job_start_date\"), \"yyyy-MM-dd\"), True)/12).cast('int'))\\\n",
    ".withColumn(\"flag_own_car\",udf_flag_own_car(col('flag_own_car')))\\\n",
    "\n",
    "\n",
    "#------------------------------------------------\n",
    "# Features To MySQL DB for serving data through REST API\n",
    "#-------------------------------------------------\n",
    "df_features.select('id', 'age', 'years_on_the_job', 'nb_previous_loans', 'avg_amount_loans_previous', 'flag_own_car')\\\n",
    ".write.format(\"jdbc\").mode(\"append\")\\\n",
    ".option(\"url\", \"jdbc:postgresql://172.17.0.3:5432/kueski\") \\\n",
    ".option(\"driver\", \"org.postgresql.Driver\").option(\"dbtable\", \"features\") \\\n",
    ".option(\"user\", \"postgres\").option(\"password\", \"postgresmaster\").save()\\\n",
    "\n",
    "#------------------------------------------------\n",
    "# Features To CSV for model training en Sklearn\n",
    "#-------------------------------------------------\n",
    "df_features.select('age', 'years_on_the_job', 'nb_previous_loans', 'avg_amount_loans_previous', 'flag_own_car', 'status')\\\n",
    ".repartition(1).write.format(\"csv\").option(\"header\", \"true\").save(\"train\")"
   ]
  },
  {
   "cell_type": "code",
   "execution_count": null,
   "id": "ffe61ffd-baa7-4c27-aee1-9d3224d27db9",
   "metadata": {},
   "outputs": [],
   "source": []
  },
  {
   "cell_type": "code",
   "execution_count": null,
   "id": "d87ea509-f605-4b29-93aa-c5b17a1a4fd0",
   "metadata": {},
   "outputs": [],
   "source": []
  }
 ],
 "metadata": {
  "kernelspec": {
   "display_name": "Python 3 (ipykernel)",
   "language": "python",
   "name": "python3"
  },
  "language_info": {
   "codemirror_mode": {
    "name": "ipython",
    "version": 3
   },
   "file_extension": ".py",
   "mimetype": "text/x-python",
   "name": "python",
   "nbconvert_exporter": "python",
   "pygments_lexer": "ipython3",
   "version": "3.9.7"
  }
 },
 "nbformat": 4,
 "nbformat_minor": 5
}
