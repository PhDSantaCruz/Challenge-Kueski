{
 "cells": [
  {
   "cell_type": "markdown",
   "metadata": {},
   "source": [
    "\n",
    "<div class=\"jumbotron\">\n",
    "  <h1><i class=\"fa fa-bar-chart\" aria-hidden=\"true\"></i> Overview</h1>\n",
    "  <p></p>\n",
    "</div>\n"
   ]
  },
  {
   "cell_type": "markdown",
   "metadata": {},
   "source": [
    "### ETL\n",
    "\n",
    "<img src=\"Images/ETL_Spark.png\" alt=\"Drawing\" style=\"width:600px;\"/>\n"
   ]
  },
  {
   "cell_type": "markdown",
   "metadata": {},
   "source": [
    "# Table features PostgresSQL\n",
    "\n",
    "- __id__ : id of a user  \n",
    "- __nb_previous_loans__: number of loans granted to a given user, before the current loan.\n",
    "- __avg_amount_loans_previous__: average amount of loans granted to a user, before the current loan.\n",
    "- __age__: user age in years.\n",
    "- __years_on_the_job__: years the user has been in employment.\n",
    "- __flag_own_car__: flag that indicates if the user has his own car.\n"
   ]
  },
  {
   "cell_type": "markdown",
   "metadata": {},
   "source": [
    "# CSV file\n",
    "\n",
    "- __status__ : label\n",
    "- __nb_previous_loans__: number of loans granted to a given user, before the current loan.\n",
    "- __avg_amount_loans_previous__: average amount of loans granted to a user, before the current loan.\n",
    "- __age__: user age in years.\n",
    "- __years_on_the_job__: years the user has been in employment.\n",
    "- __flag_own_car__: flag that indicates if the user has his own car.\n"
   ]
  },
  {
   "cell_type": "markdown",
   "metadata": {},
   "source": [
    "# PostgresSQL view\n",
    "\n",
    "<img src=\"Images/pgAdmin.PNG\" alt=\"Drawing\" style=\"width:900px;\"/>"
   ]
  },
  {
   "cell_type": "markdown",
   "metadata": {},
   "source": [
    "# Features API service  with FastAPI\n",
    "\n",
    "<img src=\"Images/postman_API_features.PNG\" alt=\"Drawing\" style=\"width:500px;\"/>\n"
   ]
  },
  {
   "cell_type": "markdown",
   "metadata": {},
   "source": [
    "# Serving ML Model  API with FastAPI\n",
    "\n",
    "\n",
    "<img src=\"Images/postman_API_predict.PNG\" alt=\"Drawing\" style=\"width:500px;\"/>\n",
    "\n"
   ]
  },
  {
   "cell_type": "markdown",
   "metadata": {},
   "source": [
    "# PipeLine AWS SageMaker Studio\n",
    "\n",
    "\n",
    "\n"
   ]
  },
  {
   "cell_type": "markdown",
   "metadata": {},
   "source": [
    "### Template\n",
    "\n",
    "MLOps template for model building, training, and deployment: \n",
    "\n",
    "Use this template to automate the entire model lifecycle that includes both model building and deployment workflows. Ideally suited for continuous integration and continuous deployment (CI/CD) of ML models. Process data, extract features, train and test models, and register them in the model registry. The template provisions an AWS CodeCommit repository for checking in and managing code versions. Kick off the model deployment workflow by approving the model registered in the model registry for deployment either manually or automatically. You can customize the seed code and the configuration files to suit your requirements. AWS CodePipeline is used to orchestrate the model deployment. Model building pipeline: SageMaker Pipelines Code repository: AWS CodeCommit Orchestration: AWS CodePipeline"
   ]
  },
  {
   "cell_type": "markdown",
   "metadata": {},
   "source": []
  },
  {
   "cell_type": "markdown",
   "metadata": {},
   "source": [
    "## ModelBuild"
   ]
  },
  {
   "cell_type": "markdown",
   "metadata": {},
   "source": [
    "<img src=\"Images/pipeline-full.png\" alt=\"Drawing\" style=\"width:900px;\"/>\n"
   ]
  },
  {
   "cell_type": "markdown",
   "metadata": {},
   "source": [
    "\n",
    "<img src=\"Images/awsSMS.PNG\" alt=\"Drawing\" style=\"width:900px;\"/>\n",
    "\n"
   ]
  },
  {
   "cell_type": "markdown",
   "metadata": {},
   "source": [
    "The definition of the pipeline is completed, however, since it was the first time that I used these tools, errors arose that due to lack of time it was not possible to correct.\n",
    "\n",
    "\n",
    "- Error con las rutas de los archivos en el cubo\n",
    "- Error en la definición de DAG"
   ]
  },
  {
   "cell_type": "markdown",
   "metadata": {},
   "source": [
    "\n",
    "### DAG error\n",
    "<img src=\"Images/dag_error.PNG\" alt=\"Drawing\" style=\"width:400px;\"/>"
   ]
  },
  {
   "cell_type": "markdown",
   "metadata": {},
   "source": [
    "### Path file error\n",
    "\n",
    "<img src=\"Images/logs_error_path_files.PNG\" alt=\"Drawing\" style=\"width:400px;\"/>"
   ]
  },
  {
   "cell_type": "markdown",
   "metadata": {},
   "source": [
    "## ModelDeploy"
   ]
  },
  {
   "cell_type": "markdown",
   "metadata": {},
   "source": [
    "Should you wish to take the POC to production, further engagement outside the scope of this POC will be required lack of time"
   ]
  },
  {
   "cell_type": "markdown",
   "metadata": {},
   "source": [
    "# Scope"
   ]
  },
  {
   "cell_type": "markdown",
   "metadata": {},
   "source": [
    "<img src=\"Images/planning.png\" alt=\"Drawing\" style=\"width:900px;\"/>"
   ]
  },
  {
   "cell_type": "code",
   "execution_count": null,
   "metadata": {},
   "outputs": [],
   "source": []
  }
 ],
 "metadata": {
  "kernelspec": {
   "display_name": "Python 3",
   "language": "python",
   "name": "python3"
  },
  "language_info": {
   "codemirror_mode": {
    "name": "ipython",
    "version": 3
   },
   "file_extension": ".py",
   "mimetype": "text/x-python",
   "name": "python",
   "nbconvert_exporter": "python",
   "pygments_lexer": "ipython3",
   "version": "3.7.4"
  }
 },
 "nbformat": 4,
 "nbformat_minor": 2
}
